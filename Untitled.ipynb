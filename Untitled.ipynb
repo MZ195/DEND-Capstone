{
 "cells": [
  {
   "cell_type": "code",
   "execution_count": 1,
   "metadata": {
    "editable": true,
    "tags": []
   },
   "outputs": [],
   "source": [
    "import pandas as pd\n",
    "import itertools\n",
    "import warnings\n",
    "import numpy as np\n",
    "import matplotlib.pyplot as plt\n",
    "import json\n",
    "# import statsmodels.api as sm\n",
    "# from fbprophet import Prophet"
   ]
  },
  {
   "cell_type": "code",
   "execution_count": 2,
   "metadata": {
    "editable": true
   },
   "outputs": [],
   "source": [
    "from pyspark.sql import SparkSession, SQLContext, GroupedData\n",
    "spark = SparkSession.builder.\\\n",
    "config(\"spark.jars.packages\",\"saurfang:spark-sas7bdat:2.0.0-s_2.11\")\\\n",
    ".enableHiveSupport().getOrCreate()\n",
    "\n",
    "sqlContext = SQLContext(spark)\n",
    "sqlContext.setConf(\"spark.sql.autoBroadcastJoinThreashold\", \"0\")"
   ]
  },
  {
   "cell_type": "code",
   "execution_count": 3,
   "metadata": {
    "editable": true
   },
   "outputs": [],
   "source": [
    "utils_data = json.load(open('utils.json', 'r'))\n",
    "us_state_code = utils_data['us_state_code']\n",
    "us_code_state = {state: code for code, state in us_state_code.items()}\n",
    "city_code = utils_data['city_codes']\n",
    "immigration_code = utils_data['immigration_codes']"
   ]
  },
  {
   "cell_type": "code",
   "execution_count": 4,
   "metadata": {
    "editable": true
   },
   "outputs": [],
   "source": [
    "from pyspark.sql.functions import udf\n",
    "from pyspark.sql.types import StringType\n",
    "\n",
    "state_code_udf = udf(lambda code: us_state_code[state], StringType())\n",
    "code_state_udf = udf(lambda state: us_code_state[state], StringType())\n",
    "city_code_udf = udf(lambda code: city_code[code], StringType())\n",
    "country_code_udf = udf(lambda code: immigration_code[code], StringType())"
   ]
  },
  {
   "cell_type": "code",
   "execution_count": null,
   "metadata": {
    "editable": true
   },
   "outputs": [],
   "source": [
    "airport_df = pd.read_csv(\"airport-codes_csv.csv\")\n",
    "demographics_df = pd.read_csv(\"us-cities-demographics.csv\", sep=\";\")\n",
    "temperature_df = pd.read_csv(\"GlobalLandTemperaturesByState.csv\")"
   ]
  },
  {
   "cell_type": "code",
   "execution_count": null,
   "metadata": {
    "editable": true
   },
   "outputs": [],
   "source": [
    "temperature_df.head()"
   ]
  },
  {
   "cell_type": "code",
   "execution_count": null,
   "metadata": {
    "editable": true
   },
   "outputs": [],
   "source": [
    "import datetime\n",
    "temperature_df['dt'] = pd.to_datetime(temperature_df['dt'])\n",
    "temperature_df['year'] = temperature_df['dt'].dt.year\n",
    "temperature_df['month'] = temperature_df['dt'].dt.month"
   ]
  },
  {
   "cell_type": "code",
   "execution_count": null,
   "metadata": {
    "editable": true
   },
   "outputs": [],
   "source": [
    "temperature_df['year'].max()"
   ]
  },
  {
   "cell_type": "code",
   "execution_count": null,
   "metadata": {
    "editable": true
   },
   "outputs": [],
   "source": [
    "# use facebook prophet to predict future temperature\n",
    "temperature_df['y'] = temperature_df['AverageTemperature']\n",
    "temperature_df['ds'] = temperature_df['dt']"
   ]
  },
  {
   "cell_type": "code",
   "execution_count": null,
   "metadata": {
    "editable": true
   },
   "outputs": [],
   "source": [
    "us_temperature_df = temperature_df[(temperature_df['Country']==\"United States\")&(temperature_df['year'] > 1900)]"
   ]
  },
  {
   "cell_type": "code",
   "execution_count": null,
   "metadata": {
    "editable": true
   },
   "outputs": [],
   "source": [
    "us_temperature_df['state_code'] = us_temperature_df.apply(lambda row: us_state_code[row[\"State\"]], axis=1)\n",
    "us_temperature_df = us_temperature_df[['dt','AverageTemperature','State','Country','year','month','state_code','y','ds']]"
   ]
  },
  {
   "cell_type": "code",
   "execution_count": null,
   "metadata": {
    "editable": true
   },
   "outputs": [],
   "source": [
    "us_temperature_df.head(20)"
   ]
  },
  {
   "cell_type": "code",
   "execution_count": null,
   "metadata": {
    "editable": true
   },
   "outputs": [],
   "source": [
    "alabama_temperature_df = us_temperature_df[(us_temperature_df[\"state_code\"]==\"AL\")&(us_temperature_df['year'] > 2000)]\n",
    "alabama_temperature_df.head(20)"
   ]
  },
  {
   "cell_type": "code",
   "execution_count": null,
   "metadata": {
    "editable": true,
    "tags": []
   },
   "outputs": [],
   "source": [
    "# temperature_model = Prophet(interval_width=0.95)\n",
    "# temperature_model.fit(alabama_temperature_df)"
   ]
  },
  {
   "cell_type": "code",
   "execution_count": null,
   "metadata": {
    "editable": true
   },
   "outputs": [],
   "source": [
    "# temperature_forecast = temperature_model.make_future_dataframe(periods=50, freq='MS')\n",
    "# temperature_forecast = temperature_model.predict(temperature_forecast)"
   ]
  },
  {
   "cell_type": "code",
   "execution_count": null,
   "metadata": {
    "editable": true
   },
   "outputs": [],
   "source": [
    "# plt.figure(figsize=(18, 6))\n",
    "# temperature_model.plot(temperature_forecast, xlabel = 'Date', ylabel = 'AverageTemperature')\n",
    "# plt.title('Date AverageTemperature');"
   ]
  },
  {
   "cell_type": "code",
   "execution_count": null,
   "metadata": {
    "editable": true
   },
   "outputs": [],
   "source": [
    "# temperature_forecast"
   ]
  },
  {
   "cell_type": "code",
   "execution_count": null,
   "metadata": {
    "editable": true
   },
   "outputs": [],
   "source": [
    "# def get_temperature_prediction(df):\n",
    "#     temperature_model = Prophet(interval_width=0.95)\n",
    "#     temperature_model.fit(df)\n",
    "#     temperature_forecast = temperature_model.make_future_dataframe(periods=50, freq='MS')\n",
    "#     temperature_forecast = temperature_model.predict(temperature_forecast)\n",
    "#     temperature_forecast['year'] = temperature_forecast['ds'].dt.year\n",
    "#     temperature_forecast['month'] = temperature_forecast['ds'].dt.month\n",
    "#     temperature_forecast['AverageTemperature'] = temperature_forecast['yhat']\n",
    "#     return temperature_forecast[['year', 'month', 'AverageTemperature']]"
   ]
  },
  {
   "cell_type": "code",
   "execution_count": null,
   "metadata": {
    "editable": true
   },
   "outputs": [],
   "source": [
    "# us_temperature_prediction_df = pd.DataFrame(columns=['year', 'month', 'AverageTemperature', 'state_code', 'state', 'country'])"
   ]
  },
  {
   "cell_type": "code",
   "execution_count": null,
   "metadata": {
    "editable": true,
    "tags": []
   },
   "outputs": [],
   "source": [
    "# for code, state in us_code_state.items():\n",
    "#     print(code, state)\n",
    "#     try:\n",
    "#         # Take a copy of earch row\n",
    "#         df = us_temperature_df[us_temperature_df['state_code']==code].copy()\n",
    "#         df = get_temperature_prediction(df)\n",
    "#         df = df[df['year'] > 2010]\n",
    "#         df['state_code'] = code\n",
    "#         df['state'] = state\n",
    "#         df['country'] = 'United States'\n",
    "#         us_temperature_prediction_df = us_temperature_prediction_df.append(df, ignore_index=True)\n",
    "#     except Exception as e:\n",
    "#         print(e)\n",
    "#         continue"
   ]
  },
  {
   "cell_type": "code",
   "execution_count": null,
   "metadata": {
    "editable": true
   },
   "outputs": [],
   "source": [
    "us_temperature_df[us_temperature_df['year']==2013].head(10)"
   ]
  },
  {
   "cell_type": "code",
   "execution_count": null,
   "metadata": {
    "editable": true
   },
   "outputs": [],
   "source": [
    "us_temperature_df.to_csv(\"us_temperature.csv\",index=False)"
   ]
  },
  {
   "cell_type": "code",
   "execution_count": null,
   "metadata": {
    "editable": true
   },
   "outputs": [],
   "source": [
    "months = ['jan', 'feb', 'mar', 'apr', 'may', 'jun', 'jul', 'aug', 'sep', 'oct', 'nov', 'dec']\n",
    "fileName = '../../data/18-83510-I94-Data-2016/i94_{}16_sub.sas7bdat'"
   ]
  },
  {
   "cell_type": "code",
   "execution_count": null,
   "metadata": {
    "editable": true,
    "tags": []
   },
   "outputs": [],
   "source": [
    "import pyspark.sql.functions as f\n",
    "for month in months:\n",
    "    fileName = fileName.format(month)\n",
    "    print(fileName)\n",
    "    immigration_df = spark.read.format('com.github.saurfang.sas.spark').load(fileName)\n",
    "    \n",
    "    immigrationMonthDF=immigration_df.filter(immigration_df.i94addr.isNotNull())\\\n",
    "    .filter(immigration_df.i94res.isNotNull())\\\n",
    "    .filter(f.col(\"i94addr\").isin(list(us_code_state.keys())))\\\n",
    "    .filter(f.col(\"i94port\").isin(list(city_code.keys())))\\\n",
    "    .withColumn(\"i94res\",f.col(\"i94res\").cast(\"integer\").cast(\"string\"))\\\n",
    "    .withColumn(\"origin_country\",country_code_udf(f.col(\"i94res\")))\\\n",
    "    .withColumn(\"State\",code_state_udf(f.col(\"i94addr\")))\\\n",
    "    .withColumn(\"id\",f.col(\"cicid\").cast(\"integer\"))\\\n",
    "    .withColumn(\"state_code\",f.col(\"i94addr\"))\\\n",
    "    .withColumn(\"city_code\",f.col(\"i94port\"))\\\n",
    "    .withColumn(\"year\",f.col(\"i94yr\").cast(\"integer\"))\\\n",
    "    .withColumn(\"month\",f.col(\"i94mon\").cast(\"integer\"))\\\n",
    "    .withColumn(\"city\",city_code_udf(f.col(\"i94port\")))\n",
    "    \n",
    "    immigrationMonthDF.select('id','year','month','origin_country','city_code','city','state_code','State').write.mode('append').parquet('immigration_data')"
   ]
  },
  {
   "cell_type": "code",
   "execution_count": null,
   "metadata": {
    "editable": true
   },
   "outputs": [],
   "source": [
    "demographics_df.head()"
   ]
  },
  {
   "cell_type": "markdown",
   "metadata": {
    "editable": true
   },
   "source": []
  },
  {
   "cell_type": "code",
   "execution_count": null,
   "metadata": {
    "editable": true
   },
   "outputs": [],
   "source": [
    "demographics_df.loc[demographics_df[\"Race\"] == \"American Indian and Alaska Native\",\"Race\"] = \"Native\"\n",
    "demographics_df.loc[demographics_df[\"Race\"] == \"Black or African-American\",\"Race\"] = \"Afroamerican\"\n",
    "demographics_df.loc[demographics_df[\"Race\"] == \"Hispanic or Latino\",\"Race\"] = \"Latino\""
   ]
  },
  {
   "cell_type": "code",
   "execution_count": null,
   "metadata": {
    "editable": true
   },
   "outputs": [],
   "source": [
    "us_demographics_avg_df = demographics_df.groupby(['State','State Code','Race'])['Median Age'].mean()\n",
    "us_demographics_sum_df = demographics_df.groupby(['State','State Code','Race'])['Total Population','Count','Male Population','Female Population','Number of Veterans','Foreign-born'].sum()"
   ]
  },
  {
   "cell_type": "code",
   "execution_count": null,
   "metadata": {
    "editable": true
   },
   "outputs": [],
   "source": [
    "us_demographics_df = pd.concat([us_demographics_sum_df,us_demographics_avg_df],axis=1)\n",
    "us_demographics_df.reset_index(inplace=True)\n",
    "us_demographics_df[\"state_code\"] = us_demographics_df[\"State Code\"]\n",
    "us_demographics_df[\"median_age\"] = us_demographics_df[\"Median Age\"]\n",
    "us_demographics_df.head()"
   ]
  },
  {
   "cell_type": "code",
   "execution_count": null,
   "metadata": {
    "editable": true
   },
   "outputs": [],
   "source": [
    "for state_code in us_code_state:\n",
    "    print(state_code)\n",
    "    df = us_demographics_df.loc[us_demographics_df['state_code'] == state_code]\n",
    "    total_population = df['Total Population'].max()\n",
    "    male_population = df['Male Population'].max()\n",
    "    female_population = df['Female Population'].max()\n",
    "    veterans_population = df['Number of Veterans'].max()\n",
    "    foreign_population = df['Foreign-born'].max()\n",
    "    median_age = df['median_age'].max()\n",
    "    \n",
    "    us_demographics_df.loc[us_demographics_df['state_code'] == state_code,'Total Population'] = total_population\n",
    "    us_demographics_df.loc[us_demographics_df['state_code'] == state_code,'Male Population'] = male_population\n",
    "    us_demographics_df.loc[us_demographics_df['state_code'] == state_code,'Female Population'] = female_population\n",
    "    us_demographics_df.loc[us_demographics_df['state_code'] == state_code,'Number of Veterans'] = veterans_population\n",
    "    us_demographics_df.loc[us_demographics_df['state_code'] == state_code,'Foreign-born'] = foreign_population\n",
    "    us_demographics_df.loc[us_demographics_df['state_code'] == state_code,'median_age'] = median_age"
   ]
  },
  {
   "cell_type": "code",
   "execution_count": null,
   "metadata": {
    "editable": true
   },
   "outputs": [],
   "source": [
    "us_demographics_df[\"percentage_male\"] = us_demographics_df.apply(lambda row: float(row[\"Male Population\"]/row[\"Total Population\"])*100.0,axis=1)\n",
    "us_demographics_df[\"percentage_female\"] = us_demographics_df.apply(lambda row: float(row[\"Female Population\"]/row[\"Total Population\"])*100.0,axis=1)\n",
    "us_demographics_df[\"percentage_veterans\"] = us_demographics_df.apply(lambda row: float(row[\"Number of Veterans\"]/row[\"Total Population\"])*100.0,axis=1)\n",
    "us_demographics_df[\"percentage_foreign_born\"] = us_demographics_df.apply(lambda row: float(row[\"Foreign-born\"]/row[\"Total Population\"])*100.0,axis=1)\n",
    "us_demographics_df[\"percentage_race\"] = us_demographics_df.apply(lambda row: float(row[\"Count\"]/row[\"Total Population\"])*100.0,axis=1)"
   ]
  },
  {
   "cell_type": "code",
   "execution_count": null,
   "metadata": {
    "editable": true
   },
   "outputs": [],
   "source": [
    "us_df_demographics = pd.pivot_table(us_demographics_df,values='percentage_race',index=[\"State\",\"state_code\",\"median_age\",\"percentage_male\",\"percentage_female\",\"percentage_veterans\",\"percentage_foreign_born\"],columns=[\"Race\"], aggfunc=np.mean, fill_value=0)\n",
    "us_df_demographics = pd.DataFrame(us_df_demographics.to_records())"
   ]
  },
  {
   "cell_type": "code",
   "execution_count": null,
   "metadata": {
    "editable": true
   },
   "outputs": [],
   "source": [
    "us_df_demographics"
   ]
  },
  {
   "cell_type": "code",
   "execution_count": null,
   "metadata": {
    "editable": true
   },
   "outputs": [],
   "source": [
    "us_df_demographics.to_csv(\"us_demographics.csv\",index=False)"
   ]
  },
  {
   "cell_type": "code",
   "execution_count": null,
   "metadata": {
    "editable": true
   },
   "outputs": [],
   "source": [
    "airport_df.head()"
   ]
  },
  {
   "cell_type": "code",
   "execution_count": null,
   "metadata": {
    "editable": true
   },
   "outputs": [],
   "source": [
    "us_airport_df = airport_df[airport_df[\"iso_country\"]==\"US\"]\n",
    "us_airport_df = us_airport_df[(us_airport_df[\"type\"]==\"small_airport\")|(us_airport_df[\"type\"]==\"medium_airport\")|(us_airport_df[\"type\"]==\"large_airport\")]"
   ]
  },
  {
   "cell_type": "code",
   "execution_count": null,
   "metadata": {
    "editable": true
   },
   "outputs": [],
   "source": [
    "us_airport_df[\"elevation_ft\"] = us_airport_df.apply(lambda row: float(row[\"elevation_ft\"]),axis=1)\n",
    "us_airport_df[\"state_code\"] = us_airport_df.apply(lambda row: row[\"iso_region\"].split(\"-\")[-1],axis=1)\n",
    "us_airport_df[\"x_coordinate\"] = us_airport_df.apply(lambda row: float(row[\"coordinates\"].split(\",\")[0]),axis=1)\n",
    "us_airport_df[\"y_coordinate\"] = us_airport_df.apply(lambda row: float(row[\"coordinates\"].split(\",\")[-1]),axis=1)"
   ]
  },
  {
   "cell_type": "code",
   "execution_count": null,
   "metadata": {
    "editable": true
   },
   "outputs": [],
   "source": [
    "us_airport_df[\"country\"] = us_airport_df[\"iso_country\"]\n",
    "us_airport_df[\"city_code\"] = us_airport_df[\"local_code\"]\n",
    "us_airport_df = us_airport_df[[\"ident\",\"type\",\"name\",\"elevation_ft\",\"country\",\"state_code\",\"city_code\",\"municipality\",\"x_coordinate\",\"y_coordinate\"]]"
   ]
  },
  {
   "cell_type": "code",
   "execution_count": null,
   "metadata": {
    "editable": true
   },
   "outputs": [],
   "source": [
    "us_airport_df.head()"
   ]
  },
  {
   "cell_type": "code",
   "execution_count": null,
   "metadata": {
    "editable": true
   },
   "outputs": [],
   "source": [
    "us_airport_df.to_csv(\"us_airports.csv\",index=False)"
   ]
  },
  {
   "cell_type": "code",
   "execution_count": 5,
   "metadata": {
    "editable": true
   },
   "outputs": [],
   "source": [
    "import pyspark.sql.functions as f\n",
    "# Read every Dimension table\n",
    "temperatureDF = spark.read.csv(\"us_temperature.csv\",header=True)\n",
    "demographicsDF = spark.read.csv(\"us_demographics.csv\",header=True)\n",
    "airportsDF = spark.read.csv(\"us_airports.csv\",header=True)\n",
    "immigrationDF = spark.read.parquet(\"immigration_data\")"
   ]
  },
  {
   "cell_type": "code",
   "execution_count": 6,
   "metadata": {
    "editable": true
   },
   "outputs": [],
   "source": [
    "# For time processing purposes, I will be using only the first 2 months in the immigration dataframe\n",
    "immigrationDF = immigrationDF.filter(f.col(\"month\")<f.lit(2))"
   ]
  },
  {
   "cell_type": "code",
   "execution_count": 7,
   "metadata": {
    "editable": true
   },
   "outputs": [],
   "source": [
    "# Create Dimension TempViews\n",
    "temperatureDF.createOrReplaceTempView(\"temperature\")\n",
    "immigrationDF.createOrReplaceTempView(\"immigration\")\n",
    "demographicsDF.createOrReplaceTempView(\"demographics\")\n",
    "airportsDF.createOrReplaceTempView(\"airports\")"
   ]
  },
  {
   "cell_type": "code",
   "execution_count": 8,
   "metadata": {
    "editable": true
   },
   "outputs": [],
   "source": [
    "# Running SQL Procedure to get the fact table dataframe\n",
    "# fact_table = spark.sql(\"\"\"\n",
    "#     SELECT \n",
    "#         immig.year,\n",
    "#         immig.month,\n",
    "#         immig.origin_country,\n",
    "#         immig.State,\n",
    "#         immig.state_code,\n",
    "#         COUNT(immig.state_code) as number_immigrants,\n",
    "#         temp.AverageTemperature as avg_temperature,\n",
    "#         demo.median_age,\n",
    "#         demo.percentage_male,\n",
    "#         demo.percentage_female,\n",
    "#         demo.percentage_veterans,\n",
    "#         demo.percentage_foreign_born,\n",
    "#         demo.Afroamerican as percentage_afroamerican,\n",
    "#         demo.Asian as percentage_asian,\n",
    "#         demo.Latino as percentage_latino,\n",
    "#         demo.Native as percentage_native,\n",
    "#         demo.White as percentage_white,\n",
    "#         air.name as airport_name,\n",
    "#         air.x_coordinate,\n",
    "#         air.y_coordinate\n",
    "#     FROM immigration as immig\n",
    "#     JOIN temperature as temp ON immig.state_code=temp.state_code AND immig.year=temp.year AND immig.month=temp.month\n",
    "#     JOIN demographics as demo ON demo.state_code=immig.state_code\n",
    "#     JOIN airports as air ON air.state_code=immig.state_code\n",
    "#     WHERE air.type='large_airport'\n",
    "#     GROUP BY 1,2,3,4,5,7,8,9,10,11,12,13,14,15,16,17,18,19,20\n",
    "#     ORDER BY 1,2,3,4\n",
    "# \"\"\").cache()\n",
    "\n",
    "fact_table = spark.sql(\"\"\"\n",
    "    SELECT\n",
    "        immigration.year,\n",
    "        immigration.month,\n",
    "        immigration.origin_country,\n",
    "        immigration.State,\n",
    "        immigration.state_code,\n",
    "        COUNT(immigration.state_code) as number_immigrants,\n",
    "        temperature.AverageTemperature as avg_temperature\n",
    "    FROM immigration\n",
    "    JOIN temperature ON immigration.state_code=temperature.state_code\n",
    "    GROUP BY 1,2,3,4,5,7\n",
    "    ORDER BY 1,2,3,4\n",
    "\"\"\").cache()"
   ]
  },
  {
   "cell_type": "code",
   "execution_count": null,
   "metadata": {
    "editable": true
   },
   "outputs": [],
   "source": [
    "# Count rows in dataframe\n",
    "fact_table.count()"
   ]
  },
  {
   "cell_type": "code",
   "execution_count": null,
   "metadata": {
    "editable": true
   },
   "outputs": [],
   "source": [
    "fact_table.show()"
   ]
  },
  {
   "cell_type": "code",
   "execution_count": null,
   "metadata": {
    "editable": true
   },
   "outputs": [],
   "source": []
  },
  {
   "cell_type": "code",
   "execution_count": null,
   "metadata": {
    "editable": true
   },
   "outputs": [],
   "source": []
  },
  {
   "cell_type": "code",
   "execution_count": null,
   "metadata": {
    "editable": true
   },
   "outputs": [],
   "source": []
  },
  {
   "cell_type": "code",
   "execution_count": null,
   "metadata": {
    "editable": true
   },
   "outputs": [],
   "source": []
  },
  {
   "cell_type": "code",
   "execution_count": null,
   "metadata": {
    "editable": true
   },
   "outputs": [],
   "source": []
  },
  {
   "cell_type": "code",
   "execution_count": null,
   "metadata": {
    "editable": true
   },
   "outputs": [],
   "source": []
  },
  {
   "cell_type": "code",
   "execution_count": null,
   "metadata": {
    "editable": true
   },
   "outputs": [],
   "source": []
  },
  {
   "cell_type": "code",
   "execution_count": null,
   "metadata": {
    "editable": true
   },
   "outputs": [],
   "source": []
  },
  {
   "cell_type": "code",
   "execution_count": null,
   "metadata": {
    "editable": true
   },
   "outputs": [],
   "source": []
  },
  {
   "cell_type": "code",
   "execution_count": null,
   "metadata": {
    "editable": true
   },
   "outputs": [],
   "source": []
  },
  {
   "cell_type": "code",
   "execution_count": null,
   "metadata": {
    "editable": true
   },
   "outputs": [],
   "source": []
  },
  {
   "cell_type": "code",
   "execution_count": null,
   "metadata": {
    "editable": true
   },
   "outputs": [],
   "source": []
  },
  {
   "cell_type": "code",
   "execution_count": null,
   "metadata": {
    "editable": true
   },
   "outputs": [],
   "source": []
  },
  {
   "cell_type": "code",
   "execution_count": null,
   "metadata": {
    "editable": true
   },
   "outputs": [],
   "source": []
  },
  {
   "cell_type": "code",
   "execution_count": null,
   "metadata": {
    "editable": true
   },
   "outputs": [],
   "source": []
  },
  {
   "cell_type": "code",
   "execution_count": null,
   "metadata": {
    "editable": true
   },
   "outputs": [],
   "source": []
  }
 ],
 "metadata": {
  "kernelspec": {
   "display_name": "Python 3",
   "language": "python",
   "name": "python3"
  },
  "language_info": {
   "codemirror_mode": {
    "name": "ipython",
    "version": 3
   },
   "file_extension": ".py",
   "mimetype": "text/x-python",
   "name": "python",
   "nbconvert_exporter": "python",
   "pygments_lexer": "ipython3",
   "version": "3.6.3"
  }
 },
 "nbformat": 4,
 "nbformat_minor": 4
}
